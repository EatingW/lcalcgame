{
 "cells": [
  {
   "cell_type": "code",
   "execution_count": null,
   "metadata": {},
   "outputs": [],
   "source": [
    "import json\n",
    "\n",
    "import networkx as nx\n",
    "%matplotlib inline\n",
    "import matplotlib.pyplot as plt\n",
    "\n",
    "import parser"
   ]
  },
  {
   "cell_type": "code",
   "execution_count": null,
   "metadata": {},
   "outputs": [],
   "source": [
    "class BoardStateNode:\n",
    "    def __init__(self, idx, node_dict):\n",
    "        self.node_dict = node_dict\n",
    "        self.key = idx\n",
    "        self.label = node_dict[\"data\"][\"board\"][0]\n",
    "        \n",
    "    def __repr__(self):\n",
    "        return self.label\n",
    "    \n",
    "    def __hash__(self):\n",
    "        return hash(self.key)\n",
    "\n",
    "\n",
    "def get_state_graphs(level):\n",
    "    \"\"\"\n",
    "    Get all the state graphs for a given playthough of a given level.\n",
    "    \"\"\"\n",
    "    graphs = []\n",
    "    for action in level.actions:\n",
    "        if action[\"1\"][\"action_id\"] != \"state-path-save\":\n",
    "            continue\n",
    "            \n",
    "        graph_detail = json.loads(action[\"1\"][\"action_detail\"])\n",
    "        graph = nx.DiGraph()\n",
    "        nodes = [\n",
    "            BoardStateNode(idx, node) \n",
    "            for idx, node in enumerate(graph_detail[\"nodes\"])\n",
    "        ]\n",
    "        graph.add_nodes_from(nodes)\n",
    "        \n",
    "        for edge in graph_detail[\"edges\"]:\n",
    "            graph.add_edge(nodes[edge[\"from\"]], nodes[edge[\"to\"]])\n",
    "        \n",
    "        graphs.append((graph, graph_detail))\n",
    "    return graphs\n",
    "\n",
    "\n",
    "def draw_graph(graph):\n",
    "    nx.draw_networkx(\n",
    "        graph[0], \n",
    "        with_labels=True, \n",
    "\n",
    "    )"
   ]
  },
  {
   "cell_type": "code",
   "execution_count": null,
   "metadata": {},
   "outputs": [],
   "source": [
    "events, level_sequence = parser.read_events(\"p0\")"
   ]
  },
  {
   "cell_type": "code",
   "execution_count": null,
   "metadata": {},
   "outputs": [],
   "source": [
    "graphs = get_state_graphs(level_sequence[15])"
   ]
  },
  {
   "cell_type": "code",
   "execution_count": null,
   "metadata": {},
   "outputs": [],
   "source": [
    "draw_graph(graphs[7])"
   ]
  }
 ],
 "metadata": {
  "kernelspec": {
   "display_name": "Python 3",
   "language": "python",
   "name": "python3"
  },
  "language_info": {
   "codemirror_mode": {
    "name": "ipython",
    "version": 3
   },
   "file_extension": ".py",
   "mimetype": "text/x-python",
   "name": "python",
   "nbconvert_exporter": "python",
   "pygments_lexer": "ipython3",
   "version": "3.6.2"
  }
 },
 "nbformat": 4,
 "nbformat_minor": 2
}
