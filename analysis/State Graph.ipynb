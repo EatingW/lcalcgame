{
 "cells": [
  {
   "cell_type": "code",
   "execution_count": null,
   "metadata": {
    "collapsed": true
   },
   "outputs": [],
   "source": [
    "import json\n",
    "\n",
    "import networkx as nx\n",
    "%matplotlib inline\n",
    "import matplotlib.pyplot as plt\n",
    "\n",
    "import parser"
   ]
  },
  {
   "cell_type": "code",
   "execution_count": null,
   "metadata": {
    "collapsed": true
   },
   "outputs": [],
   "source": [
    "# TODO: account for prev/next\n",
    "import collections\n",
    "\n",
    "class BoardStateNode:\n",
    "    def __init__(self, idx, label):\n",
    "        self.key = idx\n",
    "        self.label = label\n",
    "        \n",
    "    def __repr__(self):\n",
    "        return self.label\n",
    "    \n",
    "    def __hash__(self):\n",
    "        return hash(self.key)\n",
    "    \n",
    "    \n",
    "class ResetNode:\n",
    "    def __init__(self, idx):\n",
    "        self.key = idx\n",
    "        self.label = \"RESET\"\n",
    "        \n",
    "    def __repr__(self):\n",
    "        return self.label\n",
    "    \n",
    "    def __hash__(self):\n",
    "        return hash(self.key)\n",
    "\n",
    "\n",
    "def get_state_graphs(level):\n",
    "    \"\"\"\n",
    "    Get all the state graphs for a given playthough of a given level.\n",
    "    \"\"\"\n",
    "    graphs = []\n",
    "    for action in level.actions:\n",
    "        if action[\"1\"][\"action_id\"] == \"victory\":\n",
    "            graphs[-1].graph[\"victory\"] = True\n",
    "\n",
    "        if action[\"1\"][\"action_id\"] != \"state-path-save\":\n",
    "            continue\n",
    "            \n",
    "        graph_detail = json.loads(action[\"1\"][\"action_detail\"])\n",
    "        graph = nx.DiGraph(victory=False, reset=False)\n",
    "        nodes = []\n",
    "        for idx, node in enumerate(graph_detail[\"nodes\"]):\n",
    "            if \"data\" in node and node[\"data\"] == \"reset\":\n",
    "                nodes.append(\"reset\")\n",
    "                graph.graph[\"reset\"] = True\n",
    "                graph.add_node(\"reset\")\n",
    "            else:\n",
    "                nodes.append(str(tuple(sorted(node[\"data\"][\"board\"]))))\n",
    "                graph.add_node(nodes[-1], node_data=node[\"data\"])\n",
    "        \n",
    "        for edge in graph_detail[\"edges\"]:\n",
    "            graph.add_edge(nodes[edge[\"from\"]], nodes[edge[\"to\"]])\n",
    "        \n",
    "        graphs.append(graph)\n",
    "    return graphs\n",
    "\n",
    "\n",
    "def get_complete_state_graphs(level_sequence, level_id):\n",
    "    \"\"\"Get all state graphs for all playthroughs of a given level.\"\"\"\n",
    "    graphs = []\n",
    "    for level in level_sequence:\n",
    "        if level.id == level_id:\n",
    "            graphs.extend(get_state_graphs(level))\n",
    "    return graphs\n",
    "\n",
    "\n",
    "def only_complete_graphs(graphs):\n",
    "    \"\"\"\n",
    "    Filter out graphs not caused by victory or reset. \n",
    "    \"\"\"\n",
    "    return [graph for graph in graphs if graph.graph[\"reset\"] or graph.graph[\"victory\"]]\n",
    "\n",
    "\n",
    "def draw_graph(graph, size=(20, 20)):\n",
    "    # Make the plot bigger\n",
    "    plt.figure(3,figsize=size)\n",
    "    nx.draw_networkx(\n",
    "        graph, \n",
    "        with_labels=True,\n",
    "    )\n",
    "    \n",
    "def merge_graphs(graphs):\n",
    "    nodes = []\n",
    "    edges = []\n",
    "    idx_mapping = {}  # (graph_idx, idx) -> node_idx\n",
    "    node_mapping = {} # (sorted_board_state) -> node_idx\n",
    "    \n",
    "    for (graph_idx, graph) in enumerate(graphs):\n",
    "        for idx, node in enumerate(graph):\n",
    "            if node == \"reset\":\n",
    "                if \"reset\" not in node_mapping:\n",
    "                    nodes.append(\"reset\")\n",
    "                    idx_mapping[(graph_idx, idx)] = len(nodes) - 1\n",
    "                    node_mapping[\"reset\"] = len(nodes) - 1\n",
    "                else:\n",
    "                    idx_mapping[(graph_idx, idx)] = node_mapping[\"reset\"]\n",
    "            else:\n",
    "                if node not in node_mapping:\n",
    "                    nodes.append(node)\n",
    "                    idx_mapping[(graph_idx, idx)] = len(nodes) - 1\n",
    "                    node_mapping[node] = len(nodes) - 1\n",
    "        edges.extend(graph.edges())\n",
    "    \n",
    "    graph = nx.DiGraph()\n",
    "    graph.add_nodes_from(nodes)       \n",
    "    graph.add_edges_from(edges)\n",
    "    \n",
    "    return graph"
   ]
  },
  {
   "cell_type": "code",
   "execution_count": null,
   "metadata": {},
   "outputs": [],
   "source": [
    "events, level_sequence = parser.read_events(\"p2\")"
   ]
  },
  {
   "cell_type": "code",
   "execution_count": null,
   "metadata": {},
   "outputs": [],
   "source": [
    "graphs = only_complete_graphs(get_state_graphs(level_sequence[75]))"
   ]
  },
  {
   "cell_type": "code",
   "execution_count": null,
   "metadata": {},
   "outputs": [],
   "source": [
    "draw_graph(graphs[0])"
   ]
  },
  {
   "cell_type": "code",
   "execution_count": null,
   "metadata": {
    "collapsed": true
   },
   "outputs": [],
   "source": [
    "x = [(i,l) for (i,l) in enumerate(level_sequence) if l.id == 65]\n",
    "[(i[0], len(i[1].actions)) for i in x]"
   ]
  },
  {
   "cell_type": "code",
   "execution_count": null,
   "metadata": {},
   "outputs": [],
   "source": [
    "draw_graph(merge_graphs(only_complete_graphs(get_complete_state_graphs(level_sequence, 56))),\n",
    "           size=(25, 25))"
   ]
  }
 ],
 "metadata": {
  "kernelspec": {
   "display_name": "Python 3",
   "language": "python",
   "name": "python3"
  },
  "language_info": {
   "codemirror_mode": {
    "name": "ipython",
    "version": 3
   },
   "file_extension": ".py",
   "mimetype": "text/x-python",
   "name": "python",
   "nbconvert_exporter": "python",
   "pygments_lexer": "ipython3",
   "version": "3.6.2"
  }
 },
 "nbformat": 4,
 "nbformat_minor": 2
}
