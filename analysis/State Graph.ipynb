{
 "cells": [
  {
   "cell_type": "code",
   "execution_count": null,
   "metadata": {},
   "outputs": [],
   "source": [
    "import collections\n",
    "\n",
    "import networkx as nx\n",
    "%matplotlib inline\n",
    "import matplotlib.pyplot as plt\n",
    "\n",
    "import parser\n",
    "import imp; imp.reload(parser)"
   ]
  },
  {
   "cell_type": "code",
   "execution_count": null,
   "metadata": {
    "collapsed": true
   },
   "outputs": [],
   "source": [
    "events, level_sequence = parser.read_events(\"userlogs/p2\")\n",
    "events1, level_sequence1 = parser.read_events(\"userlogs/p1\")\n",
    "events5, level_sequence5 = parser.read_events(\"userlogs/p5\")\n",
    "all_levels = level_sequence + level_sequence1 + level_sequence5"
   ]
  },
  {
   "cell_type": "markdown",
   "metadata": {},
   "source": [
    "### Vis.js graph visualization\n",
    "Note: you *must* add vis.js to your static paths in your jupyter notebook config file. Please see [this tutorial](https://www.codementor.io/isaib.cicourel/visjs-visualization-in-jupyter-notebook-phgb3fjv0) for details.\n",
    "\n",
    "*(Eventually we will wrap this module in a .js file and also add it to static paths, but for now the logic is not finished yet.)*"
   ]
  },
  {
   "cell_type": "code",
   "execution_count": null,
   "metadata": {
    "scrolled": true
   },
   "outputs": [],
   "source": [
    "# Convert some graph data into a JSON string\n",
    "from networkx.readwrite import json_graph\n",
    "import json\n",
    "graph_to_json = lambda G: json.dumps(json_graph.node_link_data(G))\n",
    "# test_data = graph_to_json(graphs[0])\n",
    "\n",
    "merged = parser.mark_liveness(parser.get_complete_merged_graph(all_levels, 25))\n",
    "test_data = graph_to_json(merged)\n",
    "\n",
    "# Pass graph data to JS backend\n",
    "from IPython.display import Javascript\n",
    "js = \"window.graph_data={};\".format(test_data)\n",
    "\n",
    "# DO NOT ADD a ; to this line!! For some reason, it will not run it.\n",
    "Javascript(js)"
   ]
  },
  {
   "cell_type": "code",
   "execution_count": null,
   "metadata": {},
   "outputs": [],
   "source": [
    "%%javascript\n",
    "\n",
    "/* Converts the networkx output (serialized through JSON) \n",
    "*  to vis.js format. */\n",
    "function nx_to_vis(G) {\n",
    "    \n",
    "    // Convert nodes from nx format into vis.js format:\n",
    "    var nodes = G[\"nodes\"].map(function(n, idx) {\n",
    "        var background = \"#D2E5FF\";\n",
    "        if (n[\"terminal\"] && n[\"live\"]) {\n",
    "            background = \"#7fc97f\";\n",
    "        }\n",
    "        else if (n[\"terminal\"]) {\n",
    "            background = \"red\";\n",
    "        }\n",
    "        else if (n[\"initial\"]) {\n",
    "            background = \"#beaed4\";\n",
    "        }\n",
    "        else if (!n[\"live\"]) {\n",
    "            background = \"orange\";\n",
    "        }\n",
    "        return { \n",
    "            id: idx, \n",
    "            label: n[\"id\"], \n",
    "            color: {\n",
    "                background: background,\n",
    "            }\n",
    "        };\n",
    "    });\n",
    "    \n",
    "    // Convert edges ('links') to vis.js format:\n",
    "    var edges = G[\"links\"].map(function(e) {\n",
    "        var r = { from: e[\"source\"], to: e[\"target\"] };\n",
    "        if (\"count\" in e) r.label = \"\" + e.count;\n",
    "        if (\"weight\" in e) {\n",
    "            if (e.weight > 0.75) {\n",
    "                r.width = 3;\n",
    "            }\n",
    "            else if (e.weight > 0.25) {\n",
    "                r.width = 1;\n",
    "            }\n",
    "            else {\n",
    "                r.width = 0.5;\n",
    "            }\n",
    "        }\n",
    "        if (\"live\" in e) {\n",
    "            if (!e.live) {\n",
    "                r.color = \"red\";\n",
    "            }\n",
    "        }\n",
    "        return r;\n",
    "    });\n",
    "    \n",
    "    return {\n",
    "        nodes: nodes,\n",
    "        edges: edges\n",
    "    };\n",
    "}\n",
    "\n",
    "require.config({\n",
    "    paths: {\n",
    "        vis: 'vis'\n",
    "    }\n",
    "});\n",
    "\n",
    "require(['vis'], function(vis){\n",
    "    \n",
    "    // (a weird idempotency thing)\n",
    "    $(\"#net1\").remove();\n",
    "    \n",
    "    // Create an element to put the network into\n",
    "    element.append(\"<div id='net1' style='border:solid 1px'></div>\");\n",
    "    \n",
    "    // Load the JSON graph we sent from Python.\n",
    "    var graph_json = window.graph_data;\n",
    "    \n",
    "    // Decode it to vis.js format:\n",
    "    var data = nx_to_vis(graph_json);\n",
    "\n",
    "    // Create the network\n",
    "    var container = document.getElementById('net1');\n",
    "    var options = {\n",
    "        width: '800px',\n",
    "        height: '800px',\n",
    "        nodes: {\n",
    "            shape: 'box'\n",
    "        },\n",
    "        edges: {\n",
    "            arrows: 'to'\n",
    "        }\n",
    "    };\n",
    "    var network = new vis.Network(container, data, options);\n",
    "});"
   ]
  },
  {
   "cell_type": "code",
   "execution_count": null,
   "metadata": {
    "collapsed": true
   },
   "outputs": [],
   "source": []
  }
 ],
 "metadata": {
  "anaconda-cloud": {},
  "kernelspec": {
   "display_name": "Python 3",
   "language": "python",
   "name": "python3"
  },
  "language_info": {
   "codemirror_mode": {
    "name": "ipython",
    "version": 3
   },
   "file_extension": ".py",
   "mimetype": "text/x-python",
   "name": "python",
   "nbconvert_exporter": "python",
   "pygments_lexer": "ipython3",
   "version": "3.6.2"
  }
 },
 "nbformat": 4,
 "nbformat_minor": 2
}
