{
 "cells": [
  {
   "cell_type": "markdown",
   "metadata": {},
   "source": [
    "We need the iso8601 module, unfortunately, to do robust date parsing."
   ]
  },
  {
   "cell_type": "code",
   "execution_count": null,
   "metadata": {
    "collapsed": true
   },
   "outputs": [],
   "source": [
    "import collections\n",
    "import csv\n",
    "import datetime\n",
    "import json\n",
    "import glob\n",
    "import os\n",
    "\n",
    "import iso8601"
   ]
  },
  {
   "cell_type": "markdown",
   "metadata": {},
   "source": [
    "Specify the folder in which the JSON log files are kept. They will be read and concatenated."
   ]
  },
  {
   "cell_type": "code",
   "execution_count": null,
   "metadata": {
    "collapsed": true
   },
   "outputs": [],
   "source": [
    "folder = \"./p2\"\n",
    "events = []"
   ]
  },
  {
   "cell_type": "code",
   "execution_count": null,
   "metadata": {},
   "outputs": [],
   "source": [
    "filenames = glob.glob(os.path.join(folder, \"*.json\"))\n",
    "filenames.sort()\n",
    "\n",
    "for filename in filenames:\n",
    "    with open(filename) as f:\n",
    "        for line in f:\n",
    "            events.append(json.loads(line))"
   ]
  },
  {
   "cell_type": "code",
   "execution_count": null,
   "metadata": {
    "collapsed": true
   },
   "outputs": [],
   "source": [
    "tasks = [event for event in events if event[\"0\"] in (\"startTask\", \"endTask\")]"
   ]
  },
  {
   "cell_type": "markdown",
   "metadata": {},
   "source": [
    "We need to synthesize an endTask for the last level, since normally this is only recorded on level transitions."
   ]
  },
  {
   "cell_type": "code",
   "execution_count": null,
   "metadata": {
    "collapsed": true
   },
   "outputs": [],
   "source": [
    "last_level = tasks[-1][\"1\"][\"quest_id\"]\n",
    "if tasks[-1][\"0\"] != \"endTask\":\n",
    "    for event in events[::-1]:\n",
    "        if event[\"1\"].get(\"quest_id\") == last_level:\n",
    "            fake_task = event.copy()\n",
    "            fake_task[\"0\"] = \"endTask\"\n",
    "            tasks.append(fake_task)\n",
    "            break"
   ]
  },
  {
   "cell_type": "code",
   "execution_count": null,
   "metadata": {},
   "outputs": [],
   "source": [
    "completion_times = collections.defaultdict(list)\n",
    "start_times = {}\n",
    "for task in tasks:\n",
    "    if task[\"0\"] == \"startTask\":\n",
    "        quest_id = task[\"1\"][\"quest_id\"]\n",
    "        if quest_id in start_times:\n",
    "            print(\"Task\", quest_id, \"already has a start time.\")\n",
    "        start_times[quest_id] = iso8601.parse_date(task[\"timestamp\"])\n",
    "    elif task[\"0\"] == \"endTask\":\n",
    "        quest_id = task[\"1\"][\"quest_id\"]\n",
    "        start_time = start_times[quest_id]\n",
    "        end_time = iso8601.parse_date(task[\"timestamp\"])\n",
    "        completion_times[quest_id].append((end_time - start_time).total_seconds())\n",
    "        del start_times[quest_id]"
   ]
  },
  {
   "cell_type": "code",
   "execution_count": null,
   "metadata": {},
   "outputs": [],
   "source": [
    "total_times = {}\n",
    "for level_id, times in completion_times.items():\n",
    "    total_times[level_id] = sum(times)"
   ]
  },
  {
   "cell_type": "code",
   "execution_count": null,
   "metadata": {},
   "outputs": [],
   "source": [
    "total_times"
   ]
  },
  {
   "cell_type": "code",
   "execution_count": null,
   "metadata": {},
   "outputs": [],
   "source": [
    "output_path = os.path.join(folder, \"output.csv\")\n",
    "with open(output_path, \"w\") as output_file:\n",
    "    writer = csv.writer(output_file)\n",
    "    for level_id, total_seconds in sorted(total_times.items(), key=lambda x: x[0]):\n",
    "        writer.writerow((level_id, \"{:.02f}\".format(total_seconds)))"
   ]
  },
  {
   "cell_type": "code",
   "execution_count": null,
   "metadata": {},
   "outputs": [],
   "source": [
    "from IPython.display import FileLink\n",
    "FileLink(output_path)"
   ]
  },
  {
   "cell_type": "code",
   "execution_count": null,
   "metadata": {
    "collapsed": true
   },
   "outputs": [],
   "source": []
  }
 ],
 "metadata": {
  "kernelspec": {
   "display_name": "Python 3",
   "language": "python",
   "name": "python3"
  },
  "language_info": {
   "codemirror_mode": {
    "name": "ipython",
    "version": 3
   },
   "file_extension": ".py",
   "mimetype": "text/x-python",
   "name": "python",
   "nbconvert_exporter": "python",
   "pygments_lexer": "ipython3",
   "version": "3.6.2"
  }
 },
 "nbformat": 4,
 "nbformat_minor": 2
}
